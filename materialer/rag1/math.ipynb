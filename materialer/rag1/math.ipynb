{
 "cells": [
  {
   "cell_type": "code",
   "execution_count": 4,
   "metadata": {},
   "outputs": [],
   "source": [
    "#! pip install numpy"
   ]
  },
  {
   "cell_type": "markdown",
   "metadata": {},
   "source": [
    "# Cosine similarity\n",
    "Dette er en gennemgang af en af metoderne til sammenligning af vectorer.\n",
    "\n",
    "I filen embeddings har jeg en række vectorer gemt i variabler der har texten som er blevet embedded. \n",
    "\n",
    "Jeg har brugt **numpy** i eksemplerne herunder. Jeg kunne i princippet have lavet bergningerne på almindelige lister, men numpy gør det bare nemmere at lave matematiske beregninger. \n",
    "\n",
    "Hvis vi bruger cosinus til at sammenligne to vektorer, så kan resultatet være mellem -1 og 1, og beskriver vinklen mellem de 2 vektorer.     \n",
    "Hvis resultetet er **1**, er vinklen **$0^0$**, og de 2 vektoerer er hermed ens.     \n",
    "Hvis resultetet er **0** er vinklen **$90^0$**,     \n",
    "Hvis resultatet er **-1** er vinklen **$180^0$** og beskriver hermed den mindst muligt sammenligneligt.\n",
    "\n",
    "<!--\n",
    "I denne øvelse skal i arbejde med **embeddings**. Det kan være OpenAI´s som vi har gjort tidligere i dette fag, eller en anden udbyder. \n",
    "\n",
    "Programmet skal kunne sende 2 ord eller sætninger til OpenAI og få en vektor tilbage som svarer til en repræsentation af det ord eller sætning i har skrevet. Dette svarer til hvad vi har lavet i session 5.    \n",
    "\n",
    "I skal herefter lave en cosinus sammenligning mellem de to vektorer. Resultatet kan være mellem -1 og 1, og beskriver vinklen mellem de 2 vektorer. Hvis resultetet er 1, er vinklen $0^0§, og de 2 vektoerer er hermed ens. Hvis resultetet er 0 er vinklen $90^0$, Hvis resultatet er -1 er vinklen $180^0$ og beskriver hermed den mindst muligt sammenligneligt.    \n",
    "\n",
    "Formlerne til at beregne \"cosine simularity\" kan i se herunder.    \n",
    "\n",
    "I skal selvfølgelig bruge **numpy** til denne øvelse.\n",
    "-->"
   ]
  },
  {
   "cell_type": "markdown",
   "metadata": {},
   "source": [
    "![](cosine_similarity_visualization.png)"
   ]
  },
  {
   "cell_type": "markdown",
   "metadata": {},
   "source": [
    "### Formler\n",
    "\n",
    "dot product\n",
    "\n",
    "$ u \\cdot v= u_x \\cdot v_x + u_y \\cdot v_y $\n",
    "\n",
    "norm\n",
    "\n",
    "$ ∥u∥ = \\sqrt{u_x^2 + u_y^2} $\n",
    "\n",
    "cosine similarity\n",
    "\n",
    "$ \\cos(\\theta) = \\frac{\\mathbf{u} \\cdot \\mathbf{v}}{\\| \\mathbf{u} \\| \\cdot \\| \\mathbf{v} \\|} $\n"
   ]
  },
  {
   "cell_type": "code",
   "execution_count": 1,
   "metadata": {},
   "outputs": [],
   "source": [
    "import embeddings"
   ]
  },
  {
   "cell_type": "code",
   "execution_count": 3,
   "metadata": {},
   "outputs": [
    {
     "name": "stdout",
     "output_type": "stream",
     "text": [
      "1536\n"
     ]
    },
    {
     "data": {
      "text/plain": [
       "{'Cosine Similarity:': 0.7371417715981716}"
      ]
     },
     "execution_count": 3,
     "metadata": {},
     "output_type": "execute_result"
    }
   ],
   "source": [
    "import numpy as np\n",
    "\n",
    "# Definer vectorene\n",
    "u = np.array(embeddings.algorithm)\n",
    "v = np.array(embeddings.spelt)\n",
    "\n",
    "print(len(embeddings.algorithm))\n",
    "\n",
    "#udregn dot produktet \n",
    "dot_product = np.dot(u, v)\n",
    "\n",
    "# Udregng vectorenes udstrækning, længde, vektornorm (magnitude, length, norm)  \n",
    "norm_u = np.linalg.norm(u)\n",
    "norm_v = np.linalg.norm(v)\n",
    "\n",
    "# cosine similarity\n",
    "cosine_similarity = dot_product / (norm_u * norm_v)\n",
    "\n",
    "{\"Cosine Similarity:\" : cosine_similarity}\n"
   ]
  },
  {
   "cell_type": "code",
   "execution_count": null,
   "metadata": {},
   "outputs": [],
   "source": []
  }
 ],
 "metadata": {
  "kernelspec": {
   "display_name": ".venv",
   "language": "python",
   "name": "python3"
  },
  "language_info": {
   "codemirror_mode": {
    "name": "ipython",
    "version": 3
   },
   "file_extension": ".py",
   "mimetype": "text/x-python",
   "name": "python",
   "nbconvert_exporter": "python",
   "pygments_lexer": "ipython3",
   "version": "3.11.13"
  }
 },
 "nbformat": 4,
 "nbformat_minor": 2
}
