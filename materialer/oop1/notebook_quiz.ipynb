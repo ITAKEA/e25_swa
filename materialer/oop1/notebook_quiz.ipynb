{
 "cells": [
  {
   "cell_type": "markdown",
   "id": "760cc0fb",
   "metadata": {},
   "source": [
    "# Gennemgang af quiz med eksempler\n",
    "* https://realpython.com/quizzes/python-classes-oop/"
   ]
  },
  {
   "cell_type": "code",
   "execution_count": null,
   "id": "320c1a5c",
   "metadata": {},
   "outputs": [],
   "source": []
  }
 ],
 "metadata": {
  "kernelspec": {
   "display_name": ".venv",
   "language": "python",
   "name": "python3"
  },
  "language_info": {
   "name": "python",
   "version": "3.11.13"
  }
 },
 "nbformat": 4,
 "nbformat_minor": 5
}
