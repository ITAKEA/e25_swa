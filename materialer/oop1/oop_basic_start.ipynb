{
  "cells": [
    {
      "cell_type": "markdown",
      "metadata": {},
      "source": [
        "# Getting Started With Python Classes"
      ]
    },
    {
      "cell_type": "markdown",
      "metadata": {},
      "source": [
        "## What is a Class? What is an Object? What is OOP?"
      ]
    },
    {
      "cell_type": "code",
      "execution_count": null,
      "metadata": {},
      "outputs": [
        {
          "name": "stdout",
          "output_type": "stream",
          "text": [
            "Claus\n",
            "Anna\n"
          ]
        }
      ],
      "source": [
        "# Et object har en tilstand.\n",
        "\n",
        "class Person:\n",
        "    name = 'Claus'\n",
        "\n",
        "c = Person\n",
        "print(c.name)\n",
        "\n",
        "c.name = 'Anna'\n",
        "print(c.name)"
      ]
    },
    {
      "cell_type": "markdown",
      "metadata": {},
      "source": [
        "## Defining Your First Class in Python"
      ]
    },
    {
      "cell_type": "code",
      "execution_count": 23,
      "metadata": {},
      "outputs": [],
      "source": [
        "# Cat\n",
        "\n",
        "class Cat:\n",
        "    def __init__(self):             # init metode   - self -> this\n",
        "        self.name = 'Hanibal'       # instnace attributter (variabler) - public variable\n",
        "        self.age = 12"
      ]
    },
    {
      "cell_type": "markdown",
      "metadata": {},
      "source": [
        "## Creating Objects (Instances) From a Class"
      ]
    },
    {
      "cell_type": "code",
      "execution_count": null,
      "metadata": {},
      "outputs": [],
      "source": [
        "miaw = Cat()"
      ]
    },
    {
      "cell_type": "markdown",
      "metadata": {},
      "source": [
        "## Accessing Attributes and Methods"
      ]
    },
    {
      "cell_type": "code",
      "execution_count": 25,
      "metadata": {},
      "outputs": [
        {
          "name": "stdout",
          "output_type": "stream",
          "text": [
            "Hanibal\n",
            "12\n"
          ]
        }
      ],
      "source": [
        "print( miaw.name )\n",
        "print( miaw.age  )"
      ]
    },
    {
      "cell_type": "markdown",
      "metadata": {},
      "source": [
        "# Working with Class and Instance Data"
      ]
    },
    {
      "cell_type": "markdown",
      "metadata": {},
      "source": [
        "## Instance Attributes vs Class Attributes"
      ]
    },
    {
      "cell_type": "code",
      "execution_count": 29,
      "metadata": {},
      "outputs": [
        {
          "data": {
            "text/plain": [
              "'Mammel'"
            ]
          },
          "execution_count": 29,
          "metadata": {},
          "output_type": "execute_result"
        }
      ],
      "source": [
        "class Dog:\n",
        "\n",
        "    spicies = 'Mammel'  # Class attribute\n",
        "\n",
        "    def __init__(self):\n",
        "        self.name = 'Fido' # Instance attributes\n",
        "\n",
        "\n",
        "hund1 = Dog()\n",
        "hund2 = Dog()\n",
        "\n",
        "hund1.name \n",
        "hund1.spicies\n",
        "\n",
        "hund2.spicies"
      ]
    },
    {
      "cell_type": "markdown",
      "metadata": {},
      "source": [
        "## The `__init__` Method (Constructor)"
      ]
    },
    {
      "cell_type": "code",
      "execution_count": 30,
      "metadata": {},
      "outputs": [],
      "source": [
        "class Person:\n",
        "\n",
        "    def __init__(self):\n",
        "        pass"
      ]
    },
    {
      "cell_type": "markdown",
      "metadata": {},
      "source": [
        "## The `self` Parameter"
      ]
    },
    {
      "cell_type": "code",
      "execution_count": null,
      "metadata": {},
      "outputs": [
        {
          "name": "stdout",
          "output_type": "stream",
          "text": [
            "Claus\n",
            "Anna\n"
          ]
        },
        {
          "data": {
            "text/plain": [
              "'Claus'"
            ]
          },
          "execution_count": 37,
          "metadata": {},
          "output_type": "execute_result"
        }
      ],
      "source": [
        "class Person:\n",
        "\n",
        "    def __init__(self):\n",
        "        self.name = 'Claus'\n",
        "\n",
        "    def get_name(self):\n",
        "        return self.name\n",
        "    \n",
        "    def set_name(self, nameXXX):\n",
        "        self.name = nameXXX\n",
        "    \n",
        "claus = Person()\n",
        "print(claus.get_name())\n",
        "claus.set_name('Anna')\n",
        "print(claus.get_name())\n",
        "\n",
        "person2 = Person()\n",
        "person2.get_name()\n"
      ]
    },
    {
      "cell_type": "markdown",
      "metadata": {},
      "source": [
        "# Adding Behavior With Methods"
      ]
    },
    {
      "cell_type": "markdown",
      "metadata": {},
      "source": [
        "## Instance Methods"
      ]
    },
    {
      "cell_type": "code",
      "execution_count": null,
      "metadata": {},
      "outputs": [
        {
          "name": "stdout",
          "output_type": "stream",
          "text": [
            "farten er: 250\n",
            "farten er nu: 20\n"
          ]
        }
      ],
      "source": [
        "class Car:\n",
        "\n",
        "    def __init__(self, carname, speed):\n",
        "        self.carname = carname\n",
        "        self.speed = speed\n",
        "\n",
        "    def change_speed(self, speed):\n",
        "        self.speed = speed\n",
        "\n",
        "    def get_speed(self):    # assessor metoder\n",
        "        return self.speed\n",
        "    \n",
        "    def set_speed(self, x): # Mutator metode\n",
        "        self.speed = x\n",
        "\n",
        "\n",
        "volvo = Car('Volvo', 250)\n",
        "\n",
        "print(f'farten er: {volvo.speed}')\n",
        "\n",
        "volvo.change_speed(20)\n",
        "\n",
        "print(f'farten er nu: {volvo.speed}')\n"
      ]
    },
    {
      "cell_type": "markdown",
      "metadata": {},
      "source": [
        "## Special Methods (`__str__`, `__repr__`)"
      ]
    },
    {
      "cell_type": "code",
      "execution_count": 53,
      "metadata": {},
      "outputs": [
        {
          "name": "stdout",
          "output_type": "stream",
          "text": [
            "{'carname': 'Volvo', 'speed': 250}\n"
          ]
        }
      ],
      "source": [
        "class Car:\n",
        "\n",
        "    def __init__(self, carname, speed):\n",
        "        self.carname = carname\n",
        "        self.speed = speed\n",
        "\n",
        "    def change_speed(self, speed):\n",
        "        self.speed = speed\n",
        "\n",
        "    def get_speed(self):    # assessor metoder\n",
        "        return self.speed\n",
        "    \n",
        "    def set_speed(self, x): # Mutator metode\n",
        "        self.speed = x\n",
        "\n",
        "    def __str__(self):\n",
        "        return f'self.name = {self.carname}, self.speed = {self.speed}'  # beskriv objectets tilstand - informal beskrivelse\n",
        "\n",
        "    def __repr__(self):\n",
        "        return f'{self.__dict__}'  # beskriv objectets tilstand  \"på en formel måde\"\n",
        "\n",
        "\n",
        "volvo = Car('Volvo', 250)\n",
        "\n",
        "print(   repr(volvo) )\n"
      ]
    },
    {
      "cell_type": "markdown",
      "metadata": {},
      "source": [
        "## Public vs Private Members (Naming Conventions)"
      ]
    },
    {
      "cell_type": "code",
      "execution_count": null,
      "metadata": {},
      "outputs": [],
      "source": [
        "class Car:\n",
        "\n",
        "    def __init__(self, carname, speed):\n",
        "        self.carname = carname\n",
        "        self.speed = speed\n"
      ]
    },
    {
      "cell_type": "markdown",
      "metadata": {},
      "source": [
        "# Connecting Objects Through Composition"
      ]
    },
    {
      "cell_type": "markdown",
      "metadata": {},
      "source": [
        "## Creating Object Relationships"
      ]
    },
    {
      "cell_type": "code",
      "execution_count": null,
      "metadata": {},
      "outputs": [],
      "source": []
    },
    {
      "cell_type": "markdown",
      "metadata": {},
      "source": [
        "## Dependency Injection Basics"
      ]
    },
    {
      "cell_type": "code",
      "execution_count": null,
      "metadata": {},
      "outputs": [],
      "source": []
    },
    {
      "cell_type": "markdown",
      "metadata": {},
      "source": [
        "# Understanding Inheritance"
      ]
    },
    {
      "cell_type": "markdown",
      "metadata": {},
      "source": [
        "## Creating Parent and Child Classes"
      ]
    },
    {
      "cell_type": "code",
      "execution_count": null,
      "metadata": {},
      "outputs": [],
      "source": []
    },
    {
      "cell_type": "markdown",
      "metadata": {},
      "source": [
        "## Method Overriding"
      ]
    },
    {
      "cell_type": "code",
      "execution_count": null,
      "metadata": {},
      "outputs": [],
      "source": []
    },
    {
      "cell_type": "markdown",
      "metadata": {},
      "source": [
        "## Using `super()`"
      ]
    },
    {
      "cell_type": "code",
      "execution_count": null,
      "metadata": {},
      "outputs": [],
      "source": []
    },
    {
      "cell_type": "markdown",
      "metadata": {},
      "source": [
        "# The Four Pillars of OOP"
      ]
    },
    {
      "cell_type": "markdown",
      "metadata": {},
      "source": [
        "## Abstraction in Practice"
      ]
    },
    {
      "cell_type": "code",
      "execution_count": null,
      "metadata": {},
      "outputs": [],
      "source": []
    },
    {
      "cell_type": "markdown",
      "metadata": {},
      "source": [
        "## Encapsulation Examples"
      ]
    },
    {
      "cell_type": "code",
      "execution_count": null,
      "metadata": {},
      "outputs": [],
      "source": []
    },
    {
      "cell_type": "markdown",
      "metadata": {},
      "source": [
        "## Inheritance Benefits"
      ]
    },
    {
      "cell_type": "code",
      "execution_count": null,
      "metadata": {},
      "outputs": [],
      "source": []
    },
    {
      "cell_type": "markdown",
      "metadata": {},
      "source": [
        "## Polymorphism Demonstration"
      ]
    },
    {
      "cell_type": "code",
      "execution_count": null,
      "metadata": {},
      "outputs": [],
      "source": []
    }
  ],
  "metadata": {
    "kernelspec": {
      "display_name": ".venv",
      "language": "python",
      "name": "python3"
    },
    "language_info": {
      "codemirror_mode": {
        "name": "ipython",
        "version": 3
      },
      "file_extension": ".py",
      "mimetype": "text/x-python",
      "name": "python",
      "nbconvert_exporter": "python",
      "pygments_lexer": "ipython3",
      "version": "3.11.13"
    }
  },
  "nbformat": 4,
  "nbformat_minor": 4
}
