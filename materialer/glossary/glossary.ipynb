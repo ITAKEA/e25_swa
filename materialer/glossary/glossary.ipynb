{
 "cells": [
  {
   "cell_type": "markdown",
   "id": "03c10867",
   "metadata": {},
   "source": [
    "# Glossery\n",
    "Herunder "
   ]
  }
 ],
 "metadata": {
  "language_info": {
   "name": "python"
  }
 },
 "nbformat": 4,
 "nbformat_minor": 5
}
