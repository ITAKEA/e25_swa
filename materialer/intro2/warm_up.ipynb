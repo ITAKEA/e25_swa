{
 "cells": [
  {
   "cell_type": "markdown",
   "metadata": {
    "slideshow": {
     "slide_type": "slide"
    }
   },
   "source": [
    "# Opvarmning\n",
    "Svar på spørgsmålene:\n",
    "1. Først individuelt (2 minutter)\n",
    "2. herefter 2 og 2 (2 minutter)\n",
    "3. sidst \"ved tavlen\""
   ]
  },
  {
   "cell_type": "markdown",
   "metadata": {
    "slideshow": {
     "slide_type": "slide"
    }
   },
   "source": [
    "## Hvordan defineres en \n",
    "\n",
    "* liste\n",
    "* tuple\n",
    "* set\n",
    "* dict\n",
    "\n",
    "indeholdende 2 elementer?"
   ]
  },
  {
   "cell_type": "code",
   "execution_count": 31,
   "metadata": {},
   "outputs": [
    {
     "data": {
      "text/plain": [
       "{1, 2, 3}"
      ]
     },
     "execution_count": 31,
     "metadata": {},
     "output_type": "execute_result"
    }
   ],
   "source": [
    "l = [1, 2, 3]\n",
    "t = (1,)\n",
    "s = {1, 2, 2, 2, 3}\n",
    "d = {1:'One', 2:'Two'}\n",
    "\n",
    "s\n"
   ]
  },
  {
   "cell_type": "markdown",
   "metadata": {
    "slideshow": {
     "slide_type": "skip"
    }
   },
   "source": [
    "<img style='float: right' src='2-countdown.gif'>"
   ]
  },
  {
   "cell_type": "code",
   "execution_count": null,
   "metadata": {
    "slideshow": {
     "slide_type": "skip"
    }
   },
   "outputs": [
    {
     "data": {
      "text/plain": [
       "'second'"
      ]
     },
     "execution_count": 46,
     "metadata": {},
     "output_type": "execute_result"
    }
   ],
   "source": [
    "s = (1, 2, 3, 4, 4, 4)\n",
    "d = {1, 2, 3,3,3,  1}\n",
    "\n",
    "d = {\n",
    "    'body':'One', \n",
    "    2:'Two', \n",
    "    'body':'second'\n",
    "    }\n",
    "\n",
    "d.get('body')\n",
    "d['body']"
   ]
  },
  {
   "cell_type": "markdown",
   "metadata": {
    "slideshow": {
     "slide_type": "slide"
    }
   },
   "source": [
    "## Hvordan får man fat i et element fra en: \n",
    "\n",
    "* liste\n",
    "* tuple\n",
    "* set\n",
    "* dict\n",
    "\n"
   ]
  },
  {
   "cell_type": "code",
   "execution_count": 30,
   "metadata": {},
   "outputs": [
    {
     "name": "stdout",
     "output_type": "stream",
     "text": [
      "1\n",
      "2\n",
      "3\n"
     ]
    }
   ],
   "source": [
    "l[1]\n",
    "t[0]\n",
    "\n",
    "list(s)[1]\n",
    "\n",
    "x = list(s)\n",
    "x[1]\n",
    "\n",
    "for i in s:\n",
    "    print(i)"
   ]
  },
  {
   "cell_type": "markdown",
   "metadata": {
    "slideshow": {
     "slide_type": "fragment"
    }
   },
   "source": [
    "<img style='float: right' src='2-countdown.gif'>"
   ]
  },
  {
   "cell_type": "code",
   "execution_count": null,
   "metadata": {
    "slideshow": {
     "slide_type": "skip"
    }
   },
   "outputs": [],
   "source": []
  },
  {
   "cell_type": "markdown",
   "metadata": {
    "slideshow": {
     "slide_type": "slide"
    }
   },
   "source": [
    "## Hvordan itererer man igennem en: \n",
    "\n",
    "* liste\n",
    "* tuple\n",
    "* set\n",
    "* dict"
   ]
  },
  {
   "cell_type": "code",
   "execution_count": 65,
   "metadata": {},
   "outputs": [
    {
     "name": "stdout",
     "output_type": "stream",
     "text": [
      "0 Claus\n",
      "1 Peter\n",
      "2 Søren\n"
     ]
    }
   ],
   "source": [
    "names = {'Claus', 'Peter', 'Søren'}\n",
    "\n",
    "\"\"\"\n",
    "d = {'body':'One', 2:'Two'}\n",
    "\n",
    "\n",
    "for key in d:\n",
    "    print(d[key]) \n",
    "\"\"\"\n",
    "\n",
    "\n",
    "#for number in range(1,11):\n",
    "#    print(number)\n",
    "\n",
    "\n",
    "for index, name in enumerate(names):\n",
    "    print(index, name)"
   ]
  },
  {
   "cell_type": "markdown",
   "metadata": {
    "slideshow": {
     "slide_type": "fragment"
    }
   },
   "source": [
    "<img style='float: right' src='2-countdown.gif'>"
   ]
  },
  {
   "cell_type": "code",
   "execution_count": null,
   "metadata": {
    "slideshow": {
     "slide_type": "skip"
    }
   },
   "outputs": [],
   "source": []
  },
  {
   "cell_type": "code",
   "execution_count": null,
   "metadata": {},
   "outputs": [],
   "source": []
  },
  {
   "cell_type": "markdown",
   "metadata": {
    "slideshow": {
     "slide_type": "slide"
    }
   },
   "source": [
    "# Slicing\n",
    "## På en liste, hvordan får man en subliste med: \n",
    "\n",
    "*  første til og med tredje element\n",
    "*  tredje til femte element\n",
    "* fra midten af listen til slut\n",
    "* fra start til slut, men kun hver anden element"
   ]
  },
  {
   "cell_type": "code",
   "execution_count": 72,
   "metadata": {},
   "outputs": [
    {
     "data": {
      "text/plain": [
       "[1, 3, 5, 7, 9]"
      ]
     },
     "execution_count": 72,
     "metadata": {},
     "output_type": "execute_result"
    }
   ],
   "source": [
    "numbers = [1, 2, 3, 4, 5, 6, 7, 8, 9, 10]\n",
    "\n",
    "numbers[0:3]\n",
    "numbers[3:5]\n",
    "numbers[len(numbers)//2:]\n",
    "numbers[::2]"
   ]
  },
  {
   "cell_type": "markdown",
   "metadata": {
    "slideshow": {
     "slide_type": "fragment"
    }
   },
   "source": [
    "<img style='float: right' src='2-countdown.gif'>"
   ]
  },
  {
   "cell_type": "code",
   "execution_count": null,
   "metadata": {},
   "outputs": [],
   "source": []
  },
  {
   "cell_type": "code",
   "execution_count": null,
   "metadata": {
    "slideshow": {
     "slide_type": "skip"
    }
   },
   "outputs": [],
   "source": []
  },
  {
   "cell_type": "markdown",
   "metadata": {
    "slideshow": {
     "slide_type": "slide"
    }
   },
   "source": [
    "# Sorting\n",
    "## Hvordan sorterer man en Liste med brug af dets: \n",
    "\n",
    "* **key** argument"
   ]
  },
  {
   "cell_type": "code",
   "execution_count": 88,
   "metadata": {},
   "outputs": [
    {
     "data": {
      "text/plain": [
       "['Ib', 'Ole', 'Søren', 'Peter', 'Claus']"
      ]
     },
     "execution_count": 88,
     "metadata": {},
     "output_type": "execute_result"
    }
   ],
   "source": [
    "names = ['Peter', 'Claus','Søren', 'Ib', 'Ole']\n",
    "proxy = [   5,       5,     5,      2,     3, ]\n",
    "get_proxy = ['r',    's',   'n',    'b',   'e']\n",
    "\n",
    "# names.sort()\n",
    "\n",
    "\n",
    "def get_last_char(x):\n",
    "    return x[-1]\n",
    "\n",
    "\n",
    "sorted(names, key=get_last_char)"
   ]
  },
  {
   "cell_type": "code",
   "execution_count": 86,
   "metadata": {},
   "outputs": [
    {
     "data": {
      "text/plain": [
       "'r'"
      ]
     },
     "execution_count": 86,
     "metadata": {},
     "output_type": "execute_result"
    }
   ],
   "source": [
    "get_last_char('Peter')"
   ]
  },
  {
   "cell_type": "markdown",
   "metadata": {
    "slideshow": {
     "slide_type": "fragment"
    }
   },
   "source": [
    "<img style='float: right' src='2-countdown.gif'>"
   ]
  },
  {
   "cell_type": "code",
   "execution_count": 89,
   "metadata": {},
   "outputs": [
    {
     "name": "stdout",
     "output_type": "stream",
     "text": [
      "Peterling\n",
      "Clausling\n",
      "Sørenling\n",
      "Ibling\n",
      "Oleling\n"
     ]
    }
   ],
   "source": [
    "names\n",
    "for i in names:\n",
    "    print(i + 'ling')"
   ]
  },
  {
   "cell_type": "code",
   "execution_count": null,
   "metadata": {},
   "outputs": [],
   "source": [
    "t = (1, 'Volvo', 123, 44.5)\n",
    "\n",
    "d = {'id':1, 'brand': 'Volvo', 'hp': 123}"
   ]
  }
 ],
 "metadata": {
  "kernelspec": {
   "display_name": ".venv",
   "language": "python",
   "name": "python3"
  },
  "language_info": {
   "codemirror_mode": {
    "name": "ipython",
    "version": 3
   },
   "file_extension": ".py",
   "mimetype": "text/x-python",
   "name": "python",
   "nbconvert_exporter": "python",
   "pygments_lexer": "ipython3",
   "version": "3.11.13"
  }
 },
 "nbformat": 4,
 "nbformat_minor": 2
}
