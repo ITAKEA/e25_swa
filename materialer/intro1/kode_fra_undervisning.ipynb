{
 "cells": [
  {
   "cell_type": "markdown",
   "id": "46506087",
   "metadata": {},
   "source": [
    "# Kode fra undervisningen (Intro)"
   ]
  },
  {
   "cell_type": "markdown",
   "id": "95315d38",
   "metadata": {},
   "source": [
    "## Hello world"
   ]
  },
  {
   "cell_type": "code",
   "execution_count": null,
   "id": "22019c25",
   "metadata": {},
   "outputs": [],
   "source": []
  },
  {
   "cell_type": "markdown",
   "id": "ae0d8c91",
   "metadata": {},
   "source": [
    "## Variabler"
   ]
  },
  {
   "cell_type": "code",
   "execution_count": null,
   "id": "075d25fa",
   "metadata": {},
   "outputs": [],
   "source": []
  },
  {
   "cell_type": "markdown",
   "id": "caa02c05",
   "metadata": {},
   "source": [
    "## Datatyper\n",
    "* int\n",
    "* String\n",
    "* float\n",
    "* bool\n",
    "* list\n",
    "* tuple\n",
    "* set \n",
    "* dictionary"
   ]
  },
  {
   "cell_type": "code",
   "execution_count": null,
   "id": "36a10e05",
   "metadata": {},
   "outputs": [],
   "source": []
  },
  {
   "cell_type": "markdown",
   "id": "aeb99cc5",
   "metadata": {},
   "source": [
    "## Indbyggede funktioner\n",
    "https://docs.python.org/3/library/functions.html"
   ]
  },
  {
   "cell_type": "code",
   "execution_count": null,
   "id": "9e5299d4",
   "metadata": {},
   "outputs": [],
   "source": []
  },
  {
   "cell_type": "markdown",
   "id": "24ede64f",
   "metadata": {},
   "source": [
    "## Hvad er ... ?\n",
    "* help\n",
    "* dir\n",
    "* ChatGpt\n",
    "* Google"
   ]
  },
  {
   "cell_type": "code",
   "execution_count": null,
   "id": "7977855b",
   "metadata": {},
   "outputs": [],
   "source": []
  },
  {
   "cell_type": "markdown",
   "id": "fbbbecde",
   "metadata": {},
   "source": [
    "## Q: Kan jeg sammensætte en tekst streg og en int?"
   ]
  },
  {
   "cell_type": "code",
   "execution_count": null,
   "id": "c3695aad",
   "metadata": {},
   "outputs": [],
   "source": []
  },
  {
   "cell_type": "markdown",
   "id": "9d2379f6",
   "metadata": {},
   "source": [
    "## Funktioner, indentering, betingelser, compilering"
   ]
  },
  {
   "cell_type": "code",
   "execution_count": null,
   "id": "97e1a5f8",
   "metadata": {},
   "outputs": [],
   "source": []
  },
  {
   "cell_type": "markdown",
   "id": "4b802771",
   "metadata": {},
   "source": [
    "## String"
   ]
  },
  {
   "cell_type": "code",
   "execution_count": null,
   "id": "e33778fc",
   "metadata": {},
   "outputs": [],
   "source": []
  },
  {
   "cell_type": "markdown",
   "id": "8f0e2335",
   "metadata": {},
   "source": [
    "## String metoder"
   ]
  },
  {
   "cell_type": "code",
   "execution_count": null,
   "id": "fe058654",
   "metadata": {},
   "outputs": [],
   "source": []
  },
  {
   "cell_type": "markdown",
   "id": "1f2cde0e",
   "metadata": {},
   "source": [
    "## Indexerede"
   ]
  },
  {
   "cell_type": "code",
   "execution_count": null,
   "id": "25f7ddcc",
   "metadata": {},
   "outputs": [],
   "source": []
  },
  {
   "cell_type": "markdown",
   "id": "80809271",
   "metadata": {},
   "source": [
    "## String formatering\n",
    "* \\+\n",
    "* f-string"
   ]
  },
  {
   "cell_type": "code",
   "execution_count": null,
   "id": "acad4506",
   "metadata": {},
   "outputs": [],
   "source": []
  },
  {
   "cell_type": "markdown",
   "id": "caec678f",
   "metadata": {},
   "source": [
    "## Slicing"
   ]
  },
  {
   "cell_type": "code",
   "execution_count": null,
   "id": "9b9587a3",
   "metadata": {},
   "outputs": [],
   "source": []
  }
 ],
 "metadata": {
  "kernelspec": {
   "display_name": ".venv",
   "language": "python",
   "name": "python3"
  },
  "language_info": {
   "codemirror_mode": {
    "name": "ipython",
    "version": 3
   },
   "file_extension": ".py",
   "mimetype": "text/x-python",
   "name": "python",
   "nbconvert_exporter": "python",
   "pygments_lexer": "ipython3",
   "version": "3.11.13"
  }
 },
 "nbformat": 4,
 "nbformat_minor": 5
}
