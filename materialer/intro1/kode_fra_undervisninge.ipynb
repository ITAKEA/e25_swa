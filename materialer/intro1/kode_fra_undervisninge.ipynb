{
 "cells": [
  {
   "cell_type": "markdown",
   "id": "df5144b0",
   "metadata": {},
   "source": [
    "# Intro til python demo i klassen"
   ]
  },
  {
   "cell_type": "code",
   "execution_count": 46,
   "id": "2ebb78f3",
   "metadata": {},
   "outputs": [
    {
     "data": {
      "text/plain": [
       "5"
      ]
     },
     "execution_count": 46,
     "metadata": {},
     "output_type": "execute_result"
    }
   ],
   "source": [
    "a = 12\n",
    "a = 'Hello'\n",
    "\n",
    "type(a)\n",
    "len(a)\n"
   ]
  },
  {
   "cell_type": "code",
   "execution_count": 47,
   "id": "f3b19b74",
   "metadata": {},
   "outputs": [],
   "source": [
    "def login(name):\n",
    "    if name == 'Claus':\n",
    "        print(str(name) + ' Welcome!')\n",
    "    else:\n",
    "        print('No NO NO')"
   ]
  },
  {
   "cell_type": "code",
   "execution_count": 48,
   "id": "9f5e127d",
   "metadata": {},
   "outputs": [
    {
     "name": "stdout",
     "output_type": "stream",
     "text": [
      "No NO NO\n"
     ]
    }
   ],
   "source": [
    "login(10)"
   ]
  },
  {
   "cell_type": "code",
   "execution_count": 53,
   "id": "a19f77f7",
   "metadata": {},
   "outputs": [
    {
     "data": {
      "text/plain": [
       "'https:'"
      ]
     },
     "execution_count": 53,
     "metadata": {},
     "output_type": "execute_result"
    }
   ],
   "source": [
    "s = 'https://www.dr.dk'\n",
    "s[0:6]"
   ]
  },
  {
   "cell_type": "markdown",
   "id": "ab464730",
   "metadata": {},
   "source": [
    "## Slicing\n",
    "s[0]"
   ]
  },
  {
   "cell_type": "code",
   "execution_count": 54,
   "id": "566d6aa6",
   "metadata": {},
   "outputs": [
    {
     "data": {
      "text/plain": [
       "'https:'"
      ]
     },
     "execution_count": 54,
     "metadata": {},
     "output_type": "execute_result"
    }
   ],
   "source": [
    "s[0:6]"
   ]
  },
  {
   "cell_type": "code",
   "execution_count": 59,
   "id": "ee1e15a2",
   "metadata": {},
   "outputs": [
    {
     "data": {
      "text/plain": [
       "11"
      ]
     },
     "execution_count": 59,
     "metadata": {},
     "output_type": "execute_result"
    }
   ],
   "source": [
    "type(s)\n",
    "s.find('.')"
   ]
  },
  {
   "cell_type": "code",
   "execution_count": null,
   "id": "70153a6c",
   "metadata": {},
   "outputs": [],
   "source": []
  }
 ],
 "metadata": {
  "kernelspec": {
   "display_name": ".venv",
   "language": "python",
   "name": "python3"
  },
  "language_info": {
   "codemirror_mode": {
    "name": "ipython",
    "version": 3
   },
   "file_extension": ".py",
   "mimetype": "text/x-python",
   "name": "python",
   "nbconvert_exporter": "python",
   "pygments_lexer": "ipython3",
   "version": "3.13.6"
  }
 },
 "nbformat": 4,
 "nbformat_minor": 5
}
