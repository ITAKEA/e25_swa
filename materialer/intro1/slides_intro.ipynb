{
 "cells": [
  {
   "cell_type": "markdown",
   "id": "9f15d4c5",
   "metadata": {
    "slideshow": {
     "slide_type": "slide"
    }
   },
   "source": [
    "# SoftwareArkitektur"
   ]
  },
  {
   "cell_type": "markdown",
   "id": "3d6ce5ca",
   "metadata": {},
   "source": [
    "## Claus Bové\n",
    "* Udannet på CBS/ITU i år 2010\n",
    "* Uddannet på Musikkoservatoriet i år 1998\n",
    "\n",
    "Underviser\n",
    "* Softwarearkitektur på ITA\n",
    "* Cloud\n",
    "* Agil udvikling\n",
    "* Python\n",
    "* Teknologi 1\n",
    "* Teknologi 2"
   ]
  },
  {
   "cell_type": "markdown",
   "id": "ce1e3f16",
   "metadata": {},
   "source": [
    "## Litteratur & Materiale\n",
    "* Alt litteratur og materiale vil være tilgængeligt\n",
    "    * Gennem ItsLearning\n",
    "    * https://github.com/ITAKEA/e25_swa/\n"
   ]
  },
  {
   "cell_type": "markdown",
   "id": "4b89152a",
   "metadata": {},
   "source": [
    "# Øvelse\n",
    "* Brug 2 minutter på at finde frem til dagens **Læringsmål**\n",
    "<img style='float: right' src='assets/2-countdown.gif'>"
   ]
  },
  {
   "cell_type": "markdown",
   "id": "c95f6a40",
   "metadata": {
    "slideshow": {
     "slide_type": "slide"
    }
   },
   "source": [
    "![](./assets/Bloom's_revised_taxonomy.png)"
   ]
  },
  {
   "cell_type": "markdown",
   "id": "d78b485b",
   "metadata": {
    "slideshow": {
     "slide_type": "slide"
    }
   },
   "source": [
    "## Forventningsafstemning\n",
    "\n",
    "* Dette fag er et 10 ETCS fag, hvilket kan oversættes til ca. 14 timers arbejde om ugen.\n",
    "    * 8 timers undervisning\n",
    "    * 6 timers hjemmearbejde\n",
    "\n",
    "* 13 uger med undervisning\n",
    "* 4 uger med eksamensprojekt"
   ]
  },
  {
   "cell_type": "markdown",
   "id": "d9fb7da3",
   "metadata": {},
   "source": [
    "## Miniprojekt"
   ]
  },
  {
   "cell_type": "markdown",
   "id": "698d3e8b",
   "metadata": {},
   "source": [
    "## Eksamen\n",
    "* [Eksamesbeskrivelse](https://katalog.kea.dk/course/4111301/2025-2026)"
   ]
  },
  {
   "cell_type": "markdown",
   "id": "21e6d107",
   "metadata": {},
   "source": [
    "## Software (og hardware) brugt i dette fag\n",
    "I timerne bruger vi følgende software.\n",
    "* [VS Code](https://code.visualstudio.com/download) \n",
    "* Git & Github\n",
    "* Headphones (der er nogle videoer i forbindelse med undervisningen og dem skal i kunne se uden at forstyrre alle andre i klassen)."
   ]
  }
 ],
 "metadata": {
  "kernelspec": {
   "display_name": ".venv",
   "language": "python",
   "name": "python3"
  },
  "language_info": {
   "name": "python",
   "version": "3.11.13"
  }
 },
 "nbformat": 4,
 "nbformat_minor": 5
}
