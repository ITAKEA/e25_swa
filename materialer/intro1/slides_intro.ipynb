{
 "cells": [
  {
   "cell_type": "markdown",
   "id": "9f15d4c5",
   "metadata": {
    "slideshow": {
     "slide_type": "slide"
    }
   },
   "source": [
    "# SoftwareArkitektur"
   ]
  },
  {
   "cell_type": "markdown",
   "id": "d78b485b",
   "metadata": {
    "slideshow": {
     "slide_type": "slide"
    }
   },
   "source": [
    "## Forventningsafstemning\n",
    "\n",
    "* 14 timer om ugen\n",
    "* Forberedelse - undervisning - hjemmearbejde\n",
    "* "
   ]
  },
  {
   "cell_type": "markdown",
   "id": "1f1b6a68",
   "metadata": {
    "slideshow": {
     "slide_type": "slide"
    }
   },
   "source": [
    "## Tools\n",
    "\n",
    "* Git / Github\n",
    "* Cline\n",
    "* LLM\n",
    "* VS Code\n",
    "* Jupyter Notebook"
   ]
  },
  {
   "cell_type": "markdown",
   "id": "c95f6a40",
   "metadata": {
    "slideshow": {
     "slide_type": "slide"
    }
   },
   "source": [
    "![](./assets/Bloom's_revised_taxonomy.png)"
   ]
  },
  {
   "cell_type": "markdown",
   "id": "fe33f31d",
   "metadata": {
    "slideshow": {
     "slide_type": "slide"
    }
   },
   "source": [
    "## Eksamen\n",
    "\n",
    "* Eksamensprojekt (3 1/2 uge)\n",
    "* Fælles eksamen i alle fag\n",
    "* Mudtlig eksamen baseret på projekt\n",
    "* Forklaring af hvad i har lavet (forståelse, Analyse, evaluering)"
   ]
  }
 ],
 "metadata": {
  "kernelspec": {
   "display_name": ".venv",
   "language": "python",
   "name": "python3"
  },
  "language_info": {
   "name": "python",
   "version": "3.11.13"
  }
 },
 "nbformat": 4,
 "nbformat_minor": 5
}
