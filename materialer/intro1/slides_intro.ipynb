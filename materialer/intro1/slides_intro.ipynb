{
 "cells": [
  {
   "cell_type": "markdown",
   "id": "9f15d4c5",
   "metadata": {
    "slideshow": {
     "slide_type": "slide"
    }
   },
   "source": [
    "# SoftwareArkitektur"
   ]
  },
  {
   "cell_type": "markdown",
   "id": "d78b485b",
   "metadata": {
    "slideshow": {
     "slide_type": "slide"
    }
   },
   "source": [
    "## Forventningsafstemning\n",
    "\n",
    "* 14 timer om ugen\n",
    "* Forberedelse - undervisning - hjemmearbejde\n",
    "* "
   ]
  },
  {
   "cell_type": "markdown",
   "id": "1f1b6a68",
   "metadata": {
    "slideshow": {
     "slide_type": "slide"
    }
   },
   "source": [
    "## Tools\n",
    "\n",
    "* Git / Github\n",
    "* Cline\n",
    "* LLM\n",
    "* VS Code\n",
    "* Jupyter Notebook"
   ]
  }
 ],
 "metadata": {
  "language_info": {
   "name": "python"
  }
 },
 "nbformat": 4,
 "nbformat_minor": 5
}
